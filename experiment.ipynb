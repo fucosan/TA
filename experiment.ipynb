{
 "cells": [
  {
   "cell_type": "code",
   "execution_count": 1,
   "metadata": {},
   "outputs": [],
   "source": [
    "import requests"
   ]
  },
  {
   "cell_type": "code",
   "execution_count": 2,
   "metadata": {},
   "outputs": [],
   "source": [
    "def pos_tag(list_kalimat):\n",
    "    url = 'http://localhost:9000/postagger'\n",
    "    result = []\n",
    "    for kalimat in list_kalimat:\n",
    "        js = {'string': kalimat}\n",
    "        r = requests.post(url, json=js)\n",
    "        data = r.json()\n",
    "        kalimat_with_postagger = '';\n",
    "        for k, v in data['data']['map']:\n",
    "            kalimat_with_postagger += k + ' ' + v + ' '\n",
    "        result.append(kalimat_with_postagger)\n",
    "    return result"
   ]
  },
  {
   "cell_type": "code",
   "execution_count": 3,
   "metadata": {},
   "outputs": [],
   "source": [
    "kalimats = [\"Ruangan sudah sejuk, hanya beberapa ruang saja yang belum memadai\",\n",
    "            \"Dosen-dosen yang mengajar sudah sangat baik dalam hal mengajar hanya saja terkadang dosen memberi nilai kurang besar\",\n",
    "            \"Sudah cukup baik, tetapi ada beberapa pengajar yang tidak memberikan contoh secara nyata sehingga membuat mahasiswa kurang mengerti materi yang disampaikan\",\n",
    "            \"Beberapa pengajar sudah mengajar dengan baik, namun ada juga yang belum baik\",\n",
    "            \"sarana prasarana sudah baik, namun ada beberapa ruang kelas yang masih perlu diperbaiki\",\n",
    "            \"menjelaskan dengan baik, hanya saja terkadang terlalu cepat dalam penyampaian materi sehingga sulit dipahami\"\n",
    "            \n",
    "           ]"
   ]
  },
  {
   "cell_type": "code",
   "execution_count": 4,
   "metadata": {},
   "outputs": [
    {
     "data": {
      "text/plain": [
       "['Ruangan NN sudah MD sejuk NN , , hanya RB beberapa CDI ruang NN saja RB yang SC belum NEG memadai VBI ',\n",
       " 'Dosen NNP - - dosen NN yang SC mengajar VBT sudah MD sangat RB baik JJ dalam IN hal NN mengajar VBT hanya RB saja RB terkadang RB dosen NN memberi VBT nilai NN kurang RB besar JJ ',\n",
       " 'Sudah RB cukup JJ baik JJ , , tetapi CC ada VBI beberapa CDI pengajar NN yang SC tidak NEG memberikan VBT contoh NN secara IN nyata JJ sehingga SC membuat VBT mahasiswa NN kurang RB mengerti VBT materi NN yang SC disampaikan VBT ',\n",
       " 'Beberapa CDI pengajar NN sudah MD mengajar VBT dengan IN baik JJ , , namun CC ada VBI juga RB yang SC belum NEG baik JJ ',\n",
       " 'sarana NN prasarana NN sudah MD baik JJ , , namun CC ada VBI beberapa CDI ruang NN kelas NN yang SC masih RB perlu RB diperbaiki VBT ',\n",
       " 'menjelaskan VBI dengan IN baik JJ , , hanya RB saja RB terkadang RB terlalu RB cepat JJ dalam IN penyampaian NN materi NN sehingga SC sulit JJ dipahami VBT ']"
      ]
     },
     "execution_count": 4,
     "metadata": {},
     "output_type": "execute_result"
    }
   ],
   "source": [
    "pos_tag(kalimats)"
   ]
  },
  {
   "cell_type": "code",
   "execution_count": 5,
   "metadata": {},
   "outputs": [],
   "source": [
    "kalimats_2 = [\"Kondisi perkuliahan kurang kondusif dengan jumlah mahasiswa lebih dari 50 orang dalam 1 ruang kelas, dengan hanya 1 tenaga pengajar selama lebih dari 3 sks\",\n",
    "              \"mahasiswa akan lebih tertarik dengan adanya latihan-latihan soal dibandingkan hanya terus diterangkan tentang materi yang diajarkan.\",\n",
    "              \"menurut saya pengajar kuliah informatika yang sekarang ini hanya beberapa saja yang memang benar-benar menguasai bidang yang diajarkan.\",\n",
    "              \"kurang transparan untuk nilai akhir semester, di siakad dna juga hanya berisi indeks saja bukan rincian-rincian nilainya dari awal semester hingga akhir\"\n",
    "             ]"
   ]
  },
  {
   "cell_type": "code",
   "execution_count": 6,
   "metadata": {},
   "outputs": [
    {
     "data": {
      "text/plain": [
       "['Kondisi NN perkuliahan NN kurang RB kondusif JJ dengan IN jumlah NN mahasiswa NN lebih RB dari IN 50 CDP orang NN dalam IN 1 CDP ruang NN kelas NN , , dengan IN hanya RB 1 CDP tenaga NN pengajar NN selama IN lebih RB dari IN 3 CDP sks NN ',\n",
       " 'mahasiswa NN akan MD lebih RB tertarik VBI dengan IN adanya NNG latihan NN - - latihan NN soal NN dibandingkan VBT hanya RB terus RB diterangkan VBT tentang IN materi NN yang SC diajarkan VBT . . ',\n",
       " 'menurut VBT saya PRP pengajar NN kuliah NN informatika NN yang SC sekarang NN ini DT hanya RB beberapa CDI saja RB yang SC memang RB benar JJ - - benar JJ menguasai VBT bidang NN yang SC diajarkan VBT . . ',\n",
       " 'kurang RB transparan JJ untuk IN nilai NN akhir JJ semester NN , , di IN siakad NN dna NN juga RB hanya RB berisi VBT indeks NN saja RB bukan NEG rincian NN - - rincian NN nilainya NN dari IN awal JJ semester NN hingga CC akhir JJ ']"
      ]
     },
     "execution_count": 6,
     "metadata": {},
     "output_type": "execute_result"
    }
   ],
   "source": [
    "pos_tag(kalimats_2)"
   ]
  },
  {
   "cell_type": "code",
   "execution_count": null,
   "metadata": {},
   "outputs": [],
   "source": []
  }
 ],
 "metadata": {
  "kernelspec": {
   "display_name": "Python 3",
   "language": "python",
   "name": "python3"
  },
  "language_info": {
   "codemirror_mode": {
    "name": "ipython",
    "version": 3
   },
   "file_extension": ".py",
   "mimetype": "text/x-python",
   "name": "python",
   "nbconvert_exporter": "python",
   "pygments_lexer": "ipython3",
   "version": "3.8.5"
  }
 },
 "nbformat": 4,
 "nbformat_minor": 4
}
