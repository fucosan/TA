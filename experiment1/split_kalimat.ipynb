{
 "cells": [
  {
   "cell_type": "code",
   "execution_count": 1,
   "metadata": {},
   "outputs": [],
   "source": [
    "%run '../experiment1/split_kalimat'"
   ]
  },
  {
   "cell_type": "code",
   "execution_count": 2,
   "metadata": {},
   "outputs": [],
   "source": [
    "kalimat = 'Ruangan NN sudah MD sejuk NN , , hanya RB beberapa CDI ruang NN saja RB yang SC belum NEG memadai VBI '\n",
    "#kalimat2 = 'Beberapa CDI pengajar NN sudah MD mengajar VBT dengan IN baik J'J , , namun CC ada VBI juga RB yang SC belum NEG baik JJ '\n",
    "kalimat3 =  'Beberapa pengajar sudah mengajar dengan baik , namun ada juga yang belum baik'\n",
    "kalimat4= \"beberapa dosen belum dapat menguasai kelas dengan baik,tapi sudah cukup dalam hal ilmu yang di ajarkan. hanya saja untuk kuliah yang terkesan padat/lama ,mahasiswa butuh sedikit 'joke' untuk mencairkan suasana agar tidak bosan\"\n",
    "kalimat5 = 'sebagian besar sudah sangat baik, namun ada beberapa pengajar yang tidak peduli terhadap mahasiswanya, dan hanya berfokus untuk menyelesaikan kewajibannya saja tanpa peduli mahasiswa mengerti atau tidak'"
   ]
  },
  {
   "cell_type": "code",
   "execution_count": 5,
   "metadata": {},
   "outputs": [
    {
     "data": {
      "text/plain": [
       "['sebagian besar sudah sangat baik ,',\n",
       " 'namun ada beberapa pengajar yang tidak peduli terhadap mahasiswanya , dan',\n",
       " 'hanya berfokus untuk menyelesaikan kewajibannya saja tanpa peduli mahasiswa mengerti atau tidak']"
      ]
     },
     "execution_count": 5,
     "metadata": {},
     "output_type": "execute_result"
    }
   ],
   "source": [
    "d = split_kalimat2(kalimat5)\n",
    "d"
   ]
  },
  {
   "cell_type": "code",
   "execution_count": 6,
   "metadata": {},
   "outputs": [
    {
     "data": {
      "text/plain": [
       "['pengajar sebagian besar sudah sangat baik ,',\n",
       " 'namun ada beberapa pengajar yang tidak peduli terhadap mahasiswanya , dan',\n",
       " 'hanya berfokus untuk menyelesaikan kewajibannya saja tanpa peduli mahasiswa mengerti atau tidak']"
      ]
     },
     "execution_count": 6,
     "metadata": {},
     "output_type": "execute_result"
    }
   ],
   "source": [
    "add_noun_phrase(d)"
   ]
  },
  {
   "cell_type": "code",
   "execution_count": null,
   "metadata": {},
   "outputs": [],
   "source": []
  },
  {
   "cell_type": "code",
   "execution_count": null,
   "metadata": {},
   "outputs": [],
   "source": []
  }
 ],
 "metadata": {
  "kernelspec": {
   "display_name": "Python 3",
   "language": "python",
   "name": "python3"
  },
  "language_info": {
   "codemirror_mode": {
    "name": "ipython",
    "version": 3
   },
   "file_extension": ".py",
   "mimetype": "text/x-python",
   "name": "python",
   "nbconvert_exporter": "python",
   "pygments_lexer": "ipython3",
   "version": "3.8.5"
  }
 },
 "nbformat": 4,
 "nbformat_minor": 4
}
