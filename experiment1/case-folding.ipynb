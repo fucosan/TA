{
 "cells": [
  {
   "cell_type": "code",
   "execution_count": 1,
   "metadata": {},
   "outputs": [],
   "source": [
    "%run '../case_folding'"
   ]
  },
  {
   "cell_type": "code",
   "execution_count": 2,
   "metadata": {},
   "outputs": [],
   "source": [
    "kalimat = \"beberapa dosen belum dapat menguasai kelas dengan baik,tapi sudah cukup dalam hal ilmu yang di ajarkan. hanya saja untuk kuliah yang terkesan padat/lama ,mahasiswa butuh sedikit 'joke' untuk mencairkan suasana agar tidak bosan\""
   ]
  },
  {
   "cell_type": "code",
   "execution_count": 3,
   "metadata": {},
   "outputs": [],
   "source": [
    "kalimat2 = \"lebih baik mahasiswa ditekankan untuk memakai \\\"adab sebelum ilmu\\\" atau etika dalam menuntut ilmu supaya kelas kondusif dan mendapatkan berkah.\""
   ]
  },
  {
   "cell_type": "code",
   "execution_count": 4,
   "metadata": {},
   "outputs": [
    {
     "name": "stdout",
     "output_type": "stream",
     "text": [
      "tai\n",
      "lebih baik mahasiswa ditekankan untuk memakai adab sebelum ilmu atau etika dalam menuntut ilmu supaya kelas kondusif dan mendapatkan berkah\n"
     ]
    }
   ],
   "source": [
    "test = case_folding_and_remove_number_perkalimat(kalimat2)"
   ]
  },
  {
   "cell_type": "code",
   "execution_count": 5,
   "metadata": {},
   "outputs": [
    {
     "data": {
      "text/plain": [
       "'lebih baik mahasiswa ditekankan untuk memakai adab sebelum ilmu atau etika dalam menuntut ilmu supaya kelas kondusif dan mendapatkan berkah'"
      ]
     },
     "execution_count": 5,
     "metadata": {},
     "output_type": "execute_result"
    }
   ],
   "source": [
    "test"
   ]
  },
  {
   "cell_type": "code",
   "execution_count": 6,
   "metadata": {},
   "outputs": [
    {
     "data": {
      "text/plain": [
       "False"
      ]
     },
     "execution_count": 6,
     "metadata": {},
     "output_type": "execute_result"
    }
   ],
   "source": [
    "c = \"rsdfdsa43324\"\n",
    "c.isalpha()"
   ]
  },
  {
   "cell_type": "code",
   "execution_count": 7,
   "metadata": {},
   "outputs": [
    {
     "name": "stdout",
     "output_type": "stream",
     "text": [
      "ok\n"
     ]
    }
   ],
   "source": [
    "if \"lebih baik mahasiswa ditekankan untuk\" in kalimat2:\n",
    "    print(\"ok\")"
   ]
  },
  {
   "cell_type": "code",
   "execution_count": null,
   "metadata": {},
   "outputs": [],
   "source": []
  }
 ],
 "metadata": {
  "kernelspec": {
   "display_name": "Python 3",
   "language": "python",
   "name": "python3"
  },
  "language_info": {
   "codemirror_mode": {
    "name": "ipython",
    "version": 3
   },
   "file_extension": ".py",
   "mimetype": "text/x-python",
   "name": "python",
   "nbconvert_exporter": "python",
   "pygments_lexer": "ipython3",
   "version": "3.8.5"
  }
 },
 "nbformat": 4,
 "nbformat_minor": 4
}
