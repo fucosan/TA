{
 "cells": [
  {
   "cell_type": "code",
   "execution_count": 1,
   "metadata": {},
   "outputs": [],
   "source": [
    "from MyXML import MyXML\n",
    "import pandas as pd\n",
    "import numpy as np"
   ]
  },
  {
   "cell_type": "code",
   "execution_count": 2,
   "metadata": {},
   "outputs": [
    {
     "name": "stdout",
     "output_type": "stream",
     "text": [
      "jumlah kalimat :264\n",
      "label polaritas : {'Negatif', 'Positif', 'Netral'}\n",
      "label Aspek : {'Dosen#Umum', 'Nilai', 'NoAspect', 'Perkuliahan', 'Layanan', 'Sarpras', 'Dosen#Mengajar', 'Pengajar'}\n",
      "{'Positif': 127, 'Negatif': 125, 'Netral': 45}\n",
      "{'NoAspect': {'Positif': 50, 'Negatif': 17, 'Netral': 22}, 'Sarpras': {'Positif': 15, 'Negatif': 49, 'Netral': 3}, 'Perkuliahan': {'Positif': 11, 'Negatif': 16, 'Netral': 9}, 'Dosen#Mengajar': {'Netral': 4, 'Negatif': 12, 'Positif': 13}, 'Dosen#Umum': {'Netral': 5, 'Negatif': 19, 'Positif': 20}, 'Pengajar': {'Netral': 1}, 'Nilai': {'Negatif': 6}, 'Layanan': {'Positif': 18, 'Netral': 1, 'Negatif': 6}}\n"
     ]
    }
   ],
   "source": [
    "data_opini_1 = MyXML('./data/anotated/2016.xml')\n",
    "#data_opini_1.rebuild_id()\n",
    "#data_opini_1.save_data('./data/anotated2.xml')\n",
    "data_opini_1.summary_data()"
   ]
  },
  {
   "cell_type": "code",
   "execution_count": 3,
   "metadata": {},
   "outputs": [],
   "source": [
    "#data_opini_1.rebuild_id()\n",
    "#data_opini_1.save_data('./data/anotated2.xml')"
   ]
  },
  {
   "cell_type": "code",
   "execution_count": 4,
   "metadata": {},
   "outputs": [
    {
     "name": "stdout",
     "output_type": "stream",
     "text": [
      "jumlah kalimat :209\n",
      "label polaritas : {'Negatif', 'Positif', 'Netral'}\n",
      "label Aspek : {'Dosen#Umum', 'NoAspect', 'Perkuliahan', 'Layanan', 'Sarpras', 'Dosen#Mengajar'}\n",
      "{'Negatif': 114, 'Positif': 118, 'Netral': 12}\n",
      "{'Dosen#Umum': {'Negatif': 12, 'Positif': 20}, 'Perkuliahan': {'Negatif': 35, 'Positif': 23, 'Netral': 1}, 'Dosen#Mengajar': {'Positif': 38, 'Negatif': 17, 'Netral': 2}, 'Sarpras': {'Positif': 19, 'Negatif': 44, 'Netral': 2}, 'Layanan': {'Positif': 11, 'Negatif': 3}, 'NoAspect': {'Netral': 7, 'Positif': 7, 'Negatif': 3}}\n"
     ]
    }
   ],
   "source": [
    "data_opini_2 = MyXML('./data/anotated/2017.xml')\n",
    "#data_opini_2.rebuild_id()\n",
    "#data_opini_2.save_data('./data/anotated/2017.xml')\n",
    "data_opini_2.summary_data()"
   ]
  },
  {
   "cell_type": "code",
   "execution_count": 5,
   "metadata": {},
   "outputs": [
    {
     "name": "stdout",
     "output_type": "stream",
     "text": [
      "jumlah kalimat :484\n",
      "label polaritas : {'Negatif', 'Positif', 'Netral'}\n",
      "label Aspek : {'Dosen#Umum', 'Bingung', 'NoAspect', 'Perkuliahan', 'Layanan', 'Sarpras', 'Dosen#Mengajar'}\n",
      "{'Positif': 199, 'Negatif': 319, 'Netral': 93}\n",
      "{'Sarpras': {'Positif': 54, 'Negatif': 154, 'Netral': 19}, 'Perkuliahan': {'Negatif': 60, 'Netral': 11, 'Positif': 22}, 'Dosen#Umum': {'Positif': 29, 'Negatif': 23, 'Netral': 10}, 'Dosen#Mengajar': {'Netral': 10, 'Positif': 72, 'Negatif': 55}, 'NoAspect': {'Netral': 34, 'Positif': 12, 'Negatif': 6}, 'Layanan': {'Netral': 5, 'Negatif': 21, 'Positif': 9}, 'Bingung': {'Netral': 4, 'Positif': 1}}\n"
     ]
    }
   ],
   "source": [
    "data_opini_3 = MyXML('./data/anotated/2018.xml')\n",
    "#data_opini_3.rebuild_id()\n",
    "#data_opini_3.save_data('./data/anotated/2018.xml')\n",
    "data_opini_3.summary_data()"
   ]
  },
  {
   "cell_type": "code",
   "execution_count": 6,
   "metadata": {},
   "outputs": [
    {
     "name": "stdout",
     "output_type": "stream",
     "text": [
      "jumlah kalimat :297\n",
      "label polaritas : {'Negatif', 'Positif', 'Netral'}\n",
      "label Aspek : {'Dosen#Umum', 'Nilai', 'NoAspect', 'Perkuliahan', 'Layanan', 'Sarpras', 'Dosen#Mengajar'}\n",
      "{'Positif': 68, 'Negatif': 239, 'Netral': 49}\n",
      "{'Dosen#Umum': {'Positif': 4, 'Netral': 2, 'Negatif': 18}, 'Sarpras': {'Negatif': 142, 'Positif': 21, 'Netral': 14}, 'Dosen#Mengajar': {'Negatif': 10, 'Positif': 12, 'Netral': 4}, 'Perkuliahan': {'Netral': 19, 'Negatif': 49, 'Positif': 17}, 'NoAspect': {'Netral': 8, 'Positif': 2, 'Negatif': 1}, 'Layanan': {'Positif': 12, 'Negatif': 10, 'Netral': 2}, 'Nilai': {'Negatif': 9}}\n"
     ]
    }
   ],
   "source": [
    "data_opini_4 = MyXML('./data/anotated/2019.xml')\n",
    "#data_opini_4.rebuild_id()\n",
    "#data_opini_4.save_data('./data/anotated/2019.xml')\n",
    "data_opini_4.summary_data()"
   ]
  }
 ],
 "metadata": {
  "kernelspec": {
   "display_name": "Python 3",
   "language": "python",
   "name": "python3"
  },
  "language_info": {
   "codemirror_mode": {
    "name": "ipython",
    "version": 3
   },
   "file_extension": ".py",
   "mimetype": "text/x-python",
   "name": "python",
   "nbconvert_exporter": "python",
   "pygments_lexer": "ipython3",
   "version": "3.8.5"
  }
 },
 "nbformat": 4,
 "nbformat_minor": 4
}
