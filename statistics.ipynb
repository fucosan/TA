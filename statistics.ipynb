{
 "cells": [
  {
   "cell_type": "code",
   "execution_count": 1,
   "metadata": {},
   "outputs": [],
   "source": [
    "from MyXML import MyXML\n",
    "import pandas as pd\n",
    "import numpy as np"
   ]
  },
  {
   "cell_type": "markdown",
   "metadata": {},
   "source": [
    "# summary dataset 1"
   ]
  },
  {
   "cell_type": "code",
   "execution_count": 2,
   "metadata": {
    "scrolled": false
   },
   "outputs": [
    {
     "name": "stdout",
     "output_type": "stream",
     "text": [
      "jumlah kalimat :264\n",
      "label polaritas : {'Negatif', 'Positif', 'Netral'}\n",
      "label Aspek : {'Nilai', 'Perkuliahan', 'Layanan', 'Dosen#Umum', 'Dosen#Mengajar', 'NoAspect', 'Sarpras'}\n",
      "{'Positif': 125, 'Negatif': 125, 'Netral': 38}\n",
      "{'NoAspect': {'Positif': 50, 'Negatif': 17, 'Netral': 22}, 'Sarpras': {'Positif': 14, 'Negatif': 52, 'Netral': 3}, 'Perkuliahan': {'Positif': 11, 'Negatif': 13, 'Netral': 7}, 'Dosen#Mengajar': {'Netral': 2, 'Negatif': 13, 'Positif': 12}, 'Dosen#Umum': {'Netral': 4, 'Negatif': 19, 'Positif': 20}, 'Nilai': {'Negatif': 5}, 'Layanan': {'Positif': 18, 'Negatif': 6}}\n"
     ]
    }
   ],
   "source": [
    "data_opini_1 = MyXML('./data/anotated/2016.xml')\n",
    "data_opini_1.summary_data()"
   ]
  },
  {
   "cell_type": "code",
   "execution_count": 3,
   "metadata": {},
   "outputs": [
    {
     "data": {
      "text/html": [
       "<div>\n",
       "<style scoped>\n",
       "    .dataframe tbody tr th:only-of-type {\n",
       "        vertical-align: middle;\n",
       "    }\n",
       "\n",
       "    .dataframe tbody tr th {\n",
       "        vertical-align: top;\n",
       "    }\n",
       "\n",
       "    .dataframe thead th {\n",
       "        text-align: right;\n",
       "    }\n",
       "</style>\n",
       "<table border=\"1\" class=\"dataframe\">\n",
       "  <thead>\n",
       "    <tr style=\"text-align: right;\">\n",
       "      <th></th>\n",
       "      <th>Positif</th>\n",
       "      <th>Negatif</th>\n",
       "      <th>Netral</th>\n",
       "    </tr>\n",
       "  </thead>\n",
       "  <tbody>\n",
       "    <tr>\n",
       "      <th>NoAspect</th>\n",
       "      <td>50</td>\n",
       "      <td>17</td>\n",
       "      <td>22</td>\n",
       "    </tr>\n",
       "    <tr>\n",
       "      <th>Sarpras</th>\n",
       "      <td>14</td>\n",
       "      <td>52</td>\n",
       "      <td>3</td>\n",
       "    </tr>\n",
       "    <tr>\n",
       "      <th>Perkuliahan</th>\n",
       "      <td>11</td>\n",
       "      <td>13</td>\n",
       "      <td>7</td>\n",
       "    </tr>\n",
       "    <tr>\n",
       "      <th>Dosen#Mengajar</th>\n",
       "      <td>12</td>\n",
       "      <td>13</td>\n",
       "      <td>2</td>\n",
       "    </tr>\n",
       "    <tr>\n",
       "      <th>Dosen#Umum</th>\n",
       "      <td>20</td>\n",
       "      <td>19</td>\n",
       "      <td>4</td>\n",
       "    </tr>\n",
       "    <tr>\n",
       "      <th>Layanan</th>\n",
       "      <td>18</td>\n",
       "      <td>6</td>\n",
       "      <td>0</td>\n",
       "    </tr>\n",
       "    <tr>\n",
       "      <th>Nilai</th>\n",
       "      <td>0</td>\n",
       "      <td>5</td>\n",
       "      <td>0</td>\n",
       "    </tr>\n",
       "  </tbody>\n",
       "</table>\n",
       "</div>"
      ],
      "text/plain": [
       "                Positif  Negatif  Netral\n",
       "NoAspect             50       17      22\n",
       "Sarpras              14       52       3\n",
       "Perkuliahan          11       13       7\n",
       "Dosen#Mengajar       12       13       2\n",
       "Dosen#Umum           20       19       4\n",
       "Layanan              18        6       0\n",
       "Nilai                 0        5       0"
      ]
     },
     "execution_count": 3,
     "metadata": {},
     "output_type": "execute_result"
    }
   ],
   "source": [
    "data_1 = data_opini_1.summary_detail()\n",
    "pd.DataFrame.from_dict(data_1, orient='index').fillna(0).astype(int)"
   ]
  },
  {
   "cell_type": "markdown",
   "metadata": {},
   "source": [
    "# summary dataset 2"
   ]
  },
  {
   "cell_type": "code",
   "execution_count": 4,
   "metadata": {
    "scrolled": true
   },
   "outputs": [
    {
     "name": "stdout",
     "output_type": "stream",
     "text": [
      "jumlah kalimat :330\n",
      "label polaritas : {'Negatif', 'Positif', 'Netral'}\n",
      "label Aspek : {'Layanan', 'Perkuliahan', 'Nilai', 'Dosen#Umum', 'Dosen#Mengajar', 'NoAspect', 'Sarpras'}\n",
      "{'Netral': 85, 'Positif': 150, 'Negatif': 151}\n",
      "{'NoAspect': {'Netral': 44, 'Positif': 16, 'Negatif': 3}, 'Sarpras': {'Positif': 24, 'Negatif': 61, 'Netral': 13}, 'Dosen#Umum': {'Negatif': 25, 'Positif': 27, 'Netral': 7}, 'Perkuliahan': {'Positif': 25, 'Negatif': 31, 'Netral': 15}, 'Layanan': {'Positif': 16, 'Negatif': 6, 'Netral': 1}, 'Dosen#Mengajar': {'Positif': 42, 'Negatif': 20, 'Netral': 5}, 'Nilai': {'Negatif': 5}}\n"
     ]
    }
   ],
   "source": [
    "data_opini_2 = MyXML('./data/anotated/2017.xml')\n",
    "data_opini_2.summary_data()"
   ]
  },
  {
   "cell_type": "code",
   "execution_count": 5,
   "metadata": {},
   "outputs": [
    {
     "data": {
      "text/html": [
       "<div>\n",
       "<style scoped>\n",
       "    .dataframe tbody tr th:only-of-type {\n",
       "        vertical-align: middle;\n",
       "    }\n",
       "\n",
       "    .dataframe tbody tr th {\n",
       "        vertical-align: top;\n",
       "    }\n",
       "\n",
       "    .dataframe thead th {\n",
       "        text-align: right;\n",
       "    }\n",
       "</style>\n",
       "<table border=\"1\" class=\"dataframe\">\n",
       "  <thead>\n",
       "    <tr style=\"text-align: right;\">\n",
       "      <th></th>\n",
       "      <th>Netral</th>\n",
       "      <th>Positif</th>\n",
       "      <th>Negatif</th>\n",
       "    </tr>\n",
       "  </thead>\n",
       "  <tbody>\n",
       "    <tr>\n",
       "      <th>NoAspect</th>\n",
       "      <td>44</td>\n",
       "      <td>16</td>\n",
       "      <td>3</td>\n",
       "    </tr>\n",
       "    <tr>\n",
       "      <th>Sarpras</th>\n",
       "      <td>13</td>\n",
       "      <td>24</td>\n",
       "      <td>61</td>\n",
       "    </tr>\n",
       "    <tr>\n",
       "      <th>Dosen#Umum</th>\n",
       "      <td>7</td>\n",
       "      <td>27</td>\n",
       "      <td>25</td>\n",
       "    </tr>\n",
       "    <tr>\n",
       "      <th>Perkuliahan</th>\n",
       "      <td>15</td>\n",
       "      <td>25</td>\n",
       "      <td>31</td>\n",
       "    </tr>\n",
       "    <tr>\n",
       "      <th>Layanan</th>\n",
       "      <td>1</td>\n",
       "      <td>16</td>\n",
       "      <td>6</td>\n",
       "    </tr>\n",
       "    <tr>\n",
       "      <th>Dosen#Mengajar</th>\n",
       "      <td>5</td>\n",
       "      <td>42</td>\n",
       "      <td>20</td>\n",
       "    </tr>\n",
       "    <tr>\n",
       "      <th>Nilai</th>\n",
       "      <td>0</td>\n",
       "      <td>0</td>\n",
       "      <td>5</td>\n",
       "    </tr>\n",
       "  </tbody>\n",
       "</table>\n",
       "</div>"
      ],
      "text/plain": [
       "                Netral  Positif  Negatif\n",
       "NoAspect            44       16        3\n",
       "Sarpras             13       24       61\n",
       "Dosen#Umum           7       27       25\n",
       "Perkuliahan         15       25       31\n",
       "Layanan              1       16        6\n",
       "Dosen#Mengajar       5       42       20\n",
       "Nilai                0        0        5"
      ]
     },
     "execution_count": 5,
     "metadata": {},
     "output_type": "execute_result"
    }
   ],
   "source": [
    "data_2 = data_opini_2.summary_detail()\n",
    "pd.DataFrame.from_dict(data_2, orient='index').fillna(0).astype(int)"
   ]
  },
  {
   "cell_type": "markdown",
   "metadata": {},
   "source": [
    "# summary dataset 3"
   ]
  },
  {
   "cell_type": "code",
   "execution_count": 6,
   "metadata": {
    "scrolled": true
   },
   "outputs": [
    {
     "name": "stdout",
     "output_type": "stream",
     "text": [
      "jumlah kalimat :480\n",
      "label polaritas : {'Negatif', 'Positif', 'Netral'}\n",
      "label Aspek : {'Layanan', 'Perkuliahan', 'Dosen#Umum', 'Bingung', 'Dosen#Mengajar', 'NoAspect', 'Sarpras'}\n",
      "{'Positif': 193, 'Negatif': 295, 'Netral': 82}\n",
      "{'Sarpras': {'Positif': 52, 'Negatif': 146, 'Netral': 17}, 'Perkuliahan': {'Negatif': 55, 'Netral': 10, 'Positif': 21}, 'Dosen#Umum': {'Negatif': 22, 'Positif': 28, 'Netral': 7}, 'Dosen#Mengajar': {'Netral': 9, 'Positif': 71, 'Negatif': 49}, 'NoAspect': {'Netral': 33, 'Positif': 11, 'Negatif': 4}, 'Layanan': {'Netral': 3, 'Negatif': 19, 'Positif': 9}, 'Bingung': {'Netral': 3, 'Positif': 1}}\n"
     ]
    }
   ],
   "source": [
    "data_opini_3 = MyXML('./data/anotated/2018.xml')\n",
    "data_opini_3.summary_data()"
   ]
  },
  {
   "cell_type": "code",
   "execution_count": 7,
   "metadata": {},
   "outputs": [
    {
     "data": {
      "text/html": [
       "<div>\n",
       "<style scoped>\n",
       "    .dataframe tbody tr th:only-of-type {\n",
       "        vertical-align: middle;\n",
       "    }\n",
       "\n",
       "    .dataframe tbody tr th {\n",
       "        vertical-align: top;\n",
       "    }\n",
       "\n",
       "    .dataframe thead th {\n",
       "        text-align: right;\n",
       "    }\n",
       "</style>\n",
       "<table border=\"1\" class=\"dataframe\">\n",
       "  <thead>\n",
       "    <tr style=\"text-align: right;\">\n",
       "      <th></th>\n",
       "      <th>Positif</th>\n",
       "      <th>Negatif</th>\n",
       "      <th>Netral</th>\n",
       "    </tr>\n",
       "  </thead>\n",
       "  <tbody>\n",
       "    <tr>\n",
       "      <th>Sarpras</th>\n",
       "      <td>52</td>\n",
       "      <td>146</td>\n",
       "      <td>17</td>\n",
       "    </tr>\n",
       "    <tr>\n",
       "      <th>Perkuliahan</th>\n",
       "      <td>21</td>\n",
       "      <td>55</td>\n",
       "      <td>10</td>\n",
       "    </tr>\n",
       "    <tr>\n",
       "      <th>Dosen#Umum</th>\n",
       "      <td>28</td>\n",
       "      <td>22</td>\n",
       "      <td>7</td>\n",
       "    </tr>\n",
       "    <tr>\n",
       "      <th>Dosen#Mengajar</th>\n",
       "      <td>71</td>\n",
       "      <td>49</td>\n",
       "      <td>9</td>\n",
       "    </tr>\n",
       "    <tr>\n",
       "      <th>NoAspect</th>\n",
       "      <td>11</td>\n",
       "      <td>4</td>\n",
       "      <td>33</td>\n",
       "    </tr>\n",
       "    <tr>\n",
       "      <th>Layanan</th>\n",
       "      <td>9</td>\n",
       "      <td>19</td>\n",
       "      <td>3</td>\n",
       "    </tr>\n",
       "    <tr>\n",
       "      <th>Bingung</th>\n",
       "      <td>1</td>\n",
       "      <td>0</td>\n",
       "      <td>3</td>\n",
       "    </tr>\n",
       "  </tbody>\n",
       "</table>\n",
       "</div>"
      ],
      "text/plain": [
       "                Positif  Negatif  Netral\n",
       "Sarpras              52      146      17\n",
       "Perkuliahan          21       55      10\n",
       "Dosen#Umum           28       22       7\n",
       "Dosen#Mengajar       71       49       9\n",
       "NoAspect             11        4      33\n",
       "Layanan               9       19       3\n",
       "Bingung               1        0       3"
      ]
     },
     "execution_count": 7,
     "metadata": {},
     "output_type": "execute_result"
    }
   ],
   "source": [
    "data_3 = data_opini_3.summary_detail()\n",
    "pd.DataFrame.from_dict(data_3, orient='index').fillna(0).astype(int)"
   ]
  },
  {
   "cell_type": "markdown",
   "metadata": {},
   "source": [
    "# summary dataset 4"
   ]
  },
  {
   "cell_type": "code",
   "execution_count": 8,
   "metadata": {},
   "outputs": [
    {
     "name": "stdout",
     "output_type": "stream",
     "text": [
      "jumlah kalimat :289\n",
      "label polaritas : {'Negatif', 'Positif', 'Netral'}\n",
      "label Aspek : {'Layanan', 'Perkuliahan', 'Nilai', 'Dosen#Umum', 'Dosen#Mengajar', 'NoAspect', 'Sarpras'}\n",
      "{'Positif': 60, 'Negatif': 215, 'Netral': 40}\n",
      "{'Dosen#Umum': {'Positif': 3, 'Netral': 2, 'Negatif': 16}, 'Sarpras': {'Negatif': 128, 'Positif': 15, 'Netral': 12}, 'Dosen#Mengajar': {'Negatif': 9, 'Positif': 11, 'Netral': 4}, 'Perkuliahan': {'Netral': 14, 'Negatif': 44, 'Positif': 17}, 'NoAspect': {'Netral': 7, 'Positif': 2, 'Negatif': 1}, 'Layanan': {'Positif': 12, 'Negatif': 9, 'Netral': 1}, 'Nilai': {'Negatif': 8}}\n"
     ]
    }
   ],
   "source": [
    "data_opini_4 = MyXML('./data/anotated/2019.xml')\n",
    "data_opini_4.summary_data()"
   ]
  },
  {
   "cell_type": "code",
   "execution_count": 9,
   "metadata": {},
   "outputs": [
    {
     "data": {
      "text/html": [
       "<div>\n",
       "<style scoped>\n",
       "    .dataframe tbody tr th:only-of-type {\n",
       "        vertical-align: middle;\n",
       "    }\n",
       "\n",
       "    .dataframe tbody tr th {\n",
       "        vertical-align: top;\n",
       "    }\n",
       "\n",
       "    .dataframe thead th {\n",
       "        text-align: right;\n",
       "    }\n",
       "</style>\n",
       "<table border=\"1\" class=\"dataframe\">\n",
       "  <thead>\n",
       "    <tr style=\"text-align: right;\">\n",
       "      <th></th>\n",
       "      <th>Positif</th>\n",
       "      <th>Netral</th>\n",
       "      <th>Negatif</th>\n",
       "    </tr>\n",
       "  </thead>\n",
       "  <tbody>\n",
       "    <tr>\n",
       "      <th>Dosen#Umum</th>\n",
       "      <td>3</td>\n",
       "      <td>2</td>\n",
       "      <td>16</td>\n",
       "    </tr>\n",
       "    <tr>\n",
       "      <th>Sarpras</th>\n",
       "      <td>15</td>\n",
       "      <td>12</td>\n",
       "      <td>128</td>\n",
       "    </tr>\n",
       "    <tr>\n",
       "      <th>Dosen#Mengajar</th>\n",
       "      <td>11</td>\n",
       "      <td>4</td>\n",
       "      <td>9</td>\n",
       "    </tr>\n",
       "    <tr>\n",
       "      <th>Perkuliahan</th>\n",
       "      <td>17</td>\n",
       "      <td>14</td>\n",
       "      <td>44</td>\n",
       "    </tr>\n",
       "    <tr>\n",
       "      <th>NoAspect</th>\n",
       "      <td>2</td>\n",
       "      <td>7</td>\n",
       "      <td>1</td>\n",
       "    </tr>\n",
       "    <tr>\n",
       "      <th>Layanan</th>\n",
       "      <td>12</td>\n",
       "      <td>1</td>\n",
       "      <td>9</td>\n",
       "    </tr>\n",
       "    <tr>\n",
       "      <th>Nilai</th>\n",
       "      <td>0</td>\n",
       "      <td>0</td>\n",
       "      <td>8</td>\n",
       "    </tr>\n",
       "  </tbody>\n",
       "</table>\n",
       "</div>"
      ],
      "text/plain": [
       "                Positif  Netral  Negatif\n",
       "Dosen#Umum            3       2       16\n",
       "Sarpras              15      12      128\n",
       "Dosen#Mengajar       11       4        9\n",
       "Perkuliahan          17      14       44\n",
       "NoAspect              2       7        1\n",
       "Layanan              12       1        9\n",
       "Nilai                 0       0        8"
      ]
     },
     "execution_count": 9,
     "metadata": {},
     "output_type": "execute_result"
    }
   ],
   "source": [
    "data_4 = data_opini_4.summary_detail()\n",
    "pd.DataFrame.from_dict(data_4, orient='index').fillna(0).astype(int)"
   ]
  },
  {
   "cell_type": "markdown",
   "metadata": {},
   "source": [
    "# summary total data"
   ]
  },
  {
   "cell_type": "code",
   "execution_count": 10,
   "metadata": {},
   "outputs": [
    {
     "data": {
      "text/html": [
       "<div>\n",
       "<style scoped>\n",
       "    .dataframe tbody tr th:only-of-type {\n",
       "        vertical-align: middle;\n",
       "    }\n",
       "\n",
       "    .dataframe tbody tr th {\n",
       "        vertical-align: top;\n",
       "    }\n",
       "\n",
       "    .dataframe thead th {\n",
       "        text-align: right;\n",
       "    }\n",
       "</style>\n",
       "<table border=\"1\" class=\"dataframe\">\n",
       "  <thead>\n",
       "    <tr style=\"text-align: right;\">\n",
       "      <th></th>\n",
       "      <th>Positif</th>\n",
       "      <th>Negatif</th>\n",
       "      <th>Netral</th>\n",
       "    </tr>\n",
       "  </thead>\n",
       "  <tbody>\n",
       "    <tr>\n",
       "      <th>NoAspect</th>\n",
       "      <td>79</td>\n",
       "      <td>25</td>\n",
       "      <td>106</td>\n",
       "    </tr>\n",
       "    <tr>\n",
       "      <th>Sarpras</th>\n",
       "      <td>105</td>\n",
       "      <td>387</td>\n",
       "      <td>45</td>\n",
       "    </tr>\n",
       "    <tr>\n",
       "      <th>Perkuliahan</th>\n",
       "      <td>74</td>\n",
       "      <td>143</td>\n",
       "      <td>46</td>\n",
       "    </tr>\n",
       "    <tr>\n",
       "      <th>Dosen#Mengajar</th>\n",
       "      <td>136</td>\n",
       "      <td>91</td>\n",
       "      <td>20</td>\n",
       "    </tr>\n",
       "    <tr>\n",
       "      <th>Dosen#Umum</th>\n",
       "      <td>78</td>\n",
       "      <td>82</td>\n",
       "      <td>20</td>\n",
       "    </tr>\n",
       "    <tr>\n",
       "      <th>Layanan</th>\n",
       "      <td>55</td>\n",
       "      <td>40</td>\n",
       "      <td>5</td>\n",
       "    </tr>\n",
       "    <tr>\n",
       "      <th>Bingung</th>\n",
       "      <td>1</td>\n",
       "      <td>0</td>\n",
       "      <td>3</td>\n",
       "    </tr>\n",
       "    <tr>\n",
       "      <th>Nilai</th>\n",
       "      <td>0</td>\n",
       "      <td>18</td>\n",
       "      <td>0</td>\n",
       "    </tr>\n",
       "  </tbody>\n",
       "</table>\n",
       "</div>"
      ],
      "text/plain": [
       "                Positif  Negatif  Netral\n",
       "NoAspect             79       25     106\n",
       "Sarpras             105      387      45\n",
       "Perkuliahan          74      143      46\n",
       "Dosen#Mengajar      136       91      20\n",
       "Dosen#Umum           78       82      20\n",
       "Layanan              55       40       5\n",
       "Bingung               1        0       3\n",
       "Nilai                 0       18       0"
      ]
     },
     "execution_count": 10,
     "metadata": {},
     "output_type": "execute_result"
    }
   ],
   "source": [
    "a = [data_1, data_2, data_3, data_4]\n",
    "data_total = {}\n",
    "for m in a:\n",
    "    for k, v in m.items():\n",
    "        if k not in data_total:\n",
    "            data_total[k] = {}\n",
    "        for x, y in v.items():\n",
    "            if x not in data_total[k]:\n",
    "                data_total[k][x] = y\n",
    "            else:\n",
    "                data_total[k][x] += y\n",
    "    \n",
    "pd.DataFrame.from_dict(data_total, orient='index').fillna(0).astype(int)"
   ]
  },
  {
   "cell_type": "code",
   "execution_count": 13,
   "metadata": {},
   "outputs": [],
   "source": [
    "# liat berapa kalimat yang ada multi aspek\n",
    "satu = data_opini_1.get_pair()\n",
    "dua = data_opini_2.get_pair()\n",
    "tiga = data_opini_3.get_pair()\n",
    "empat = data_opini_4.get_pair()"
   ]
  },
  {
   "cell_type": "code",
   "execution_count": 14,
   "metadata": {},
   "outputs": [
    {
     "data": {
      "text/plain": [
       "{1: 1171, 2: 188, 3: 4}"
      ]
     },
     "execution_count": 14,
     "metadata": {},
     "output_type": "execute_result"
    }
   ],
   "source": [
    "D = [satu, dua, tiga, empat]\n",
    "multi_aspek = {}\n",
    "for data in D:\n",
    "    for text, opini in data:\n",
    "        if len(opini) not in multi_aspek:\n",
    "            multi_aspek[len(opini)] = 0\n",
    "        multi_aspek[len(opini)] += 1\n",
    "multi_aspek"
   ]
  },
  {
   "cell_type": "code",
   "execution_count": null,
   "metadata": {},
   "outputs": [],
   "source": []
  }
 ],
 "metadata": {
  "kernelspec": {
   "display_name": "Python 3",
   "language": "python",
   "name": "python3"
  },
  "language_info": {
   "codemirror_mode": {
    "name": "ipython",
    "version": 3
   },
   "file_extension": ".py",
   "mimetype": "text/x-python",
   "name": "python",
   "nbconvert_exporter": "python",
   "pygments_lexer": "ipython3",
   "version": "3.8.5"
  }
 },
 "nbformat": 4,
 "nbformat_minor": 4
}
