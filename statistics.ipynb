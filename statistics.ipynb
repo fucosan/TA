{
 "cells": [
  {
   "cell_type": "code",
   "execution_count": 1,
   "metadata": {},
   "outputs": [],
   "source": [
    "from MyXML import MyXML\n",
    "import pandas as pd\n",
    "import numpy as np\n",
    "import nltk"
   ]
  },
  {
   "cell_type": "markdown",
   "metadata": {},
   "source": [
    "# summary dataset 1"
   ]
  },
  {
   "cell_type": "code",
   "execution_count": 2,
   "metadata": {
    "scrolled": false
   },
   "outputs": [
    {
     "name": "stdout",
     "output_type": "stream",
     "text": [
      "jumlah kalimat :264\n",
      "label polaritas : {'Netral', 'Negatif', 'Positif'}\n",
      "label Aspek : {'Sarpras', 'Pengajar', 'Nilai', 'Perkuliahan', 'NoAspect', 'Dosen#Mengajar', 'Layanan', 'Dosen#Umum'}\n",
      "{'Positif': 127, 'Negatif': 125, 'Netral': 45}\n",
      "{'NoAspect': {'Positif': 50, 'Negatif': 17, 'Netral': 22}, 'Sarpras': {'Positif': 15, 'Negatif': 49, 'Netral': 3}, 'Perkuliahan': {'Positif': 11, 'Negatif': 16, 'Netral': 9}, 'Dosen#Mengajar': {'Netral': 4, 'Negatif': 12, 'Positif': 13}, 'Dosen#Umum': {'Netral': 5, 'Negatif': 19, 'Positif': 20}, 'Pengajar': {'Netral': 1}, 'Nilai': {'Negatif': 6}, 'Layanan': {'Positif': 18, 'Netral': 1, 'Negatif': 6}}\n"
     ]
    }
   ],
   "source": [
    "data_opini_1 = MyXML('./data/anotated/2016.xml')\n",
    "data_opini_1.summary_data()"
   ]
  },
  {
   "cell_type": "code",
   "execution_count": 3,
   "metadata": {},
   "outputs": [
    {
     "data": {
      "text/html": [
       "<div>\n",
       "<style scoped>\n",
       "    .dataframe tbody tr th:only-of-type {\n",
       "        vertical-align: middle;\n",
       "    }\n",
       "\n",
       "    .dataframe tbody tr th {\n",
       "        vertical-align: top;\n",
       "    }\n",
       "\n",
       "    .dataframe thead th {\n",
       "        text-align: right;\n",
       "    }\n",
       "</style>\n",
       "<table border=\"1\" class=\"dataframe\">\n",
       "  <thead>\n",
       "    <tr style=\"text-align: right;\">\n",
       "      <th></th>\n",
       "      <th>Positif</th>\n",
       "      <th>Negatif</th>\n",
       "      <th>Netral</th>\n",
       "    </tr>\n",
       "  </thead>\n",
       "  <tbody>\n",
       "    <tr>\n",
       "      <th>NoAspect</th>\n",
       "      <td>50</td>\n",
       "      <td>17</td>\n",
       "      <td>22</td>\n",
       "    </tr>\n",
       "    <tr>\n",
       "      <th>Sarpras</th>\n",
       "      <td>15</td>\n",
       "      <td>49</td>\n",
       "      <td>3</td>\n",
       "    </tr>\n",
       "    <tr>\n",
       "      <th>Perkuliahan</th>\n",
       "      <td>11</td>\n",
       "      <td>16</td>\n",
       "      <td>9</td>\n",
       "    </tr>\n",
       "    <tr>\n",
       "      <th>Dosen#Mengajar</th>\n",
       "      <td>13</td>\n",
       "      <td>12</td>\n",
       "      <td>4</td>\n",
       "    </tr>\n",
       "    <tr>\n",
       "      <th>Dosen#Umum</th>\n",
       "      <td>20</td>\n",
       "      <td>19</td>\n",
       "      <td>5</td>\n",
       "    </tr>\n",
       "    <tr>\n",
       "      <th>Layanan</th>\n",
       "      <td>18</td>\n",
       "      <td>6</td>\n",
       "      <td>1</td>\n",
       "    </tr>\n",
       "    <tr>\n",
       "      <th>Nilai</th>\n",
       "      <td>0</td>\n",
       "      <td>6</td>\n",
       "      <td>0</td>\n",
       "    </tr>\n",
       "    <tr>\n",
       "      <th>Pengajar</th>\n",
       "      <td>0</td>\n",
       "      <td>0</td>\n",
       "      <td>1</td>\n",
       "    </tr>\n",
       "  </tbody>\n",
       "</table>\n",
       "</div>"
      ],
      "text/plain": [
       "                Positif  Negatif  Netral\n",
       "NoAspect             50       17      22\n",
       "Sarpras              15       49       3\n",
       "Perkuliahan          11       16       9\n",
       "Dosen#Mengajar       13       12       4\n",
       "Dosen#Umum           20       19       5\n",
       "Layanan              18        6       1\n",
       "Nilai                 0        6       0\n",
       "Pengajar              0        0       1"
      ]
     },
     "execution_count": 3,
     "metadata": {},
     "output_type": "execute_result"
    }
   ],
   "source": [
    "data_1 = data_opini_1.summary_detail()\n",
    "pd.DataFrame.from_dict(data_1, orient='index').fillna(0).astype(int)"
   ]
  },
  {
   "cell_type": "markdown",
   "metadata": {},
   "source": [
    "# summary dataset 2"
   ]
  },
  {
   "cell_type": "code",
   "execution_count": 4,
   "metadata": {
    "scrolled": true
   },
   "outputs": [
    {
     "name": "stdout",
     "output_type": "stream",
     "text": [
      "jumlah kalimat :209\n",
      "label polaritas : {'Netral', 'Negatif', 'Positif'}\n",
      "label Aspek : {'Sarpras', 'Perkuliahan', 'NoAspect', 'Dosen#Mengajar', 'Layanan', 'Dosen#Umum'}\n",
      "{'Negatif': 114, 'Positif': 118, 'Netral': 12}\n",
      "{'Dosen#Umum': {'Negatif': 12, 'Positif': 20}, 'Perkuliahan': {'Negatif': 35, 'Positif': 23, 'Netral': 1}, 'Dosen#Mengajar': {'Positif': 38, 'Negatif': 17, 'Netral': 2}, 'Sarpras': {'Positif': 19, 'Negatif': 44, 'Netral': 2}, 'Layanan': {'Positif': 11, 'Negatif': 3}, 'NoAspect': {'Netral': 7, 'Positif': 7, 'Negatif': 3}}\n"
     ]
    }
   ],
   "source": [
    "data_opini_2 = MyXML('./data/anotated/2017.xml')\n",
    "data_opini_2.summary_data()"
   ]
  },
  {
   "cell_type": "code",
   "execution_count": 5,
   "metadata": {},
   "outputs": [
    {
     "data": {
      "text/html": [
       "<div>\n",
       "<style scoped>\n",
       "    .dataframe tbody tr th:only-of-type {\n",
       "        vertical-align: middle;\n",
       "    }\n",
       "\n",
       "    .dataframe tbody tr th {\n",
       "        vertical-align: top;\n",
       "    }\n",
       "\n",
       "    .dataframe thead th {\n",
       "        text-align: right;\n",
       "    }\n",
       "</style>\n",
       "<table border=\"1\" class=\"dataframe\">\n",
       "  <thead>\n",
       "    <tr style=\"text-align: right;\">\n",
       "      <th></th>\n",
       "      <th>Negatif</th>\n",
       "      <th>Positif</th>\n",
       "      <th>Netral</th>\n",
       "    </tr>\n",
       "  </thead>\n",
       "  <tbody>\n",
       "    <tr>\n",
       "      <th>Dosen#Umum</th>\n",
       "      <td>12</td>\n",
       "      <td>20</td>\n",
       "      <td>0</td>\n",
       "    </tr>\n",
       "    <tr>\n",
       "      <th>Perkuliahan</th>\n",
       "      <td>35</td>\n",
       "      <td>23</td>\n",
       "      <td>1</td>\n",
       "    </tr>\n",
       "    <tr>\n",
       "      <th>Dosen#Mengajar</th>\n",
       "      <td>17</td>\n",
       "      <td>38</td>\n",
       "      <td>2</td>\n",
       "    </tr>\n",
       "    <tr>\n",
       "      <th>Sarpras</th>\n",
       "      <td>44</td>\n",
       "      <td>19</td>\n",
       "      <td>2</td>\n",
       "    </tr>\n",
       "    <tr>\n",
       "      <th>Layanan</th>\n",
       "      <td>3</td>\n",
       "      <td>11</td>\n",
       "      <td>0</td>\n",
       "    </tr>\n",
       "    <tr>\n",
       "      <th>NoAspect</th>\n",
       "      <td>3</td>\n",
       "      <td>7</td>\n",
       "      <td>7</td>\n",
       "    </tr>\n",
       "  </tbody>\n",
       "</table>\n",
       "</div>"
      ],
      "text/plain": [
       "                Negatif  Positif  Netral\n",
       "Dosen#Umum           12       20       0\n",
       "Perkuliahan          35       23       1\n",
       "Dosen#Mengajar       17       38       2\n",
       "Sarpras              44       19       2\n",
       "Layanan               3       11       0\n",
       "NoAspect              3        7       7"
      ]
     },
     "execution_count": 5,
     "metadata": {},
     "output_type": "execute_result"
    }
   ],
   "source": [
    "data_2 = data_opini_2.summary_detail()\n",
    "pd.DataFrame.from_dict(data_2, orient='index').fillna(0).astype(int)"
   ]
  },
  {
   "cell_type": "markdown",
   "metadata": {},
   "source": [
    "# summary dataset 3"
   ]
  },
  {
   "cell_type": "code",
   "execution_count": 6,
   "metadata": {
    "scrolled": true
   },
   "outputs": [
    {
     "name": "stdout",
     "output_type": "stream",
     "text": [
      "jumlah kalimat :484\n",
      "label polaritas : {'Netral', 'Negatif', 'Positif'}\n",
      "label Aspek : {'Sarpras', 'Perkuliahan', 'NoAspect', 'Dosen#Mengajar', 'Layanan', 'Dosen#Umum', 'Bingung'}\n",
      "{'Positif': 199, 'Negatif': 319, 'Netral': 93}\n",
      "{'Sarpras': {'Positif': 54, 'Negatif': 154, 'Netral': 19}, 'Perkuliahan': {'Negatif': 60, 'Netral': 11, 'Positif': 22}, 'Dosen#Umum': {'Positif': 29, 'Negatif': 23, 'Netral': 10}, 'Dosen#Mengajar': {'Netral': 10, 'Positif': 72, 'Negatif': 55}, 'NoAspect': {'Netral': 34, 'Positif': 12, 'Negatif': 6}, 'Layanan': {'Netral': 5, 'Negatif': 21, 'Positif': 9}, 'Bingung': {'Netral': 4, 'Positif': 1}}\n"
     ]
    }
   ],
   "source": [
    "data_opini_3 = MyXML('./data/anotated/2018.xml')\n",
    "data_opini_3.summary_data()"
   ]
  },
  {
   "cell_type": "code",
   "execution_count": 7,
   "metadata": {},
   "outputs": [
    {
     "data": {
      "text/html": [
       "<div>\n",
       "<style scoped>\n",
       "    .dataframe tbody tr th:only-of-type {\n",
       "        vertical-align: middle;\n",
       "    }\n",
       "\n",
       "    .dataframe tbody tr th {\n",
       "        vertical-align: top;\n",
       "    }\n",
       "\n",
       "    .dataframe thead th {\n",
       "        text-align: right;\n",
       "    }\n",
       "</style>\n",
       "<table border=\"1\" class=\"dataframe\">\n",
       "  <thead>\n",
       "    <tr style=\"text-align: right;\">\n",
       "      <th></th>\n",
       "      <th>Positif</th>\n",
       "      <th>Negatif</th>\n",
       "      <th>Netral</th>\n",
       "    </tr>\n",
       "  </thead>\n",
       "  <tbody>\n",
       "    <tr>\n",
       "      <th>Sarpras</th>\n",
       "      <td>54</td>\n",
       "      <td>154</td>\n",
       "      <td>19</td>\n",
       "    </tr>\n",
       "    <tr>\n",
       "      <th>Perkuliahan</th>\n",
       "      <td>22</td>\n",
       "      <td>60</td>\n",
       "      <td>11</td>\n",
       "    </tr>\n",
       "    <tr>\n",
       "      <th>Dosen#Umum</th>\n",
       "      <td>29</td>\n",
       "      <td>23</td>\n",
       "      <td>10</td>\n",
       "    </tr>\n",
       "    <tr>\n",
       "      <th>Dosen#Mengajar</th>\n",
       "      <td>72</td>\n",
       "      <td>55</td>\n",
       "      <td>10</td>\n",
       "    </tr>\n",
       "    <tr>\n",
       "      <th>NoAspect</th>\n",
       "      <td>12</td>\n",
       "      <td>6</td>\n",
       "      <td>34</td>\n",
       "    </tr>\n",
       "    <tr>\n",
       "      <th>Layanan</th>\n",
       "      <td>9</td>\n",
       "      <td>21</td>\n",
       "      <td>5</td>\n",
       "    </tr>\n",
       "    <tr>\n",
       "      <th>Bingung</th>\n",
       "      <td>1</td>\n",
       "      <td>0</td>\n",
       "      <td>4</td>\n",
       "    </tr>\n",
       "  </tbody>\n",
       "</table>\n",
       "</div>"
      ],
      "text/plain": [
       "                Positif  Negatif  Netral\n",
       "Sarpras              54      154      19\n",
       "Perkuliahan          22       60      11\n",
       "Dosen#Umum           29       23      10\n",
       "Dosen#Mengajar       72       55      10\n",
       "NoAspect             12        6      34\n",
       "Layanan               9       21       5\n",
       "Bingung               1        0       4"
      ]
     },
     "execution_count": 7,
     "metadata": {},
     "output_type": "execute_result"
    }
   ],
   "source": [
    "data_3 = data_opini_3.summary_detail()\n",
    "pd.DataFrame.from_dict(data_3, orient='index').fillna(0).astype(int)"
   ]
  },
  {
   "cell_type": "markdown",
   "metadata": {},
   "source": [
    "# summary dataset 4"
   ]
  },
  {
   "cell_type": "code",
   "execution_count": 8,
   "metadata": {},
   "outputs": [
    {
     "name": "stdout",
     "output_type": "stream",
     "text": [
      "jumlah kalimat :297\n",
      "label polaritas : {'Netral', 'Negatif', 'Positif'}\n",
      "label Aspek : {'Sarpras', 'Nilai', 'Perkuliahan', 'NoAspect', 'Dosen#Mengajar', 'Layanan', 'Dosen#Umum'}\n",
      "{'Positif': 68, 'Negatif': 239, 'Netral': 49}\n",
      "{'Dosen#Umum': {'Positif': 4, 'Netral': 2, 'Negatif': 18}, 'Sarpras': {'Negatif': 142, 'Positif': 21, 'Netral': 14}, 'Dosen#Mengajar': {'Negatif': 10, 'Positif': 12, 'Netral': 4}, 'Perkuliahan': {'Netral': 19, 'Negatif': 49, 'Positif': 17}, 'NoAspect': {'Netral': 8, 'Positif': 2, 'Negatif': 1}, 'Layanan': {'Positif': 12, 'Negatif': 10, 'Netral': 2}, 'Nilai': {'Negatif': 9}}\n"
     ]
    }
   ],
   "source": [
    "data_opini_4 = MyXML('./data/anotated/2019.xml')\n",
    "data_opini_4.summary_data()"
   ]
  },
  {
   "cell_type": "code",
   "execution_count": 9,
   "metadata": {},
   "outputs": [
    {
     "data": {
      "text/html": [
       "<div>\n",
       "<style scoped>\n",
       "    .dataframe tbody tr th:only-of-type {\n",
       "        vertical-align: middle;\n",
       "    }\n",
       "\n",
       "    .dataframe tbody tr th {\n",
       "        vertical-align: top;\n",
       "    }\n",
       "\n",
       "    .dataframe thead th {\n",
       "        text-align: right;\n",
       "    }\n",
       "</style>\n",
       "<table border=\"1\" class=\"dataframe\">\n",
       "  <thead>\n",
       "    <tr style=\"text-align: right;\">\n",
       "      <th></th>\n",
       "      <th>Positif</th>\n",
       "      <th>Netral</th>\n",
       "      <th>Negatif</th>\n",
       "    </tr>\n",
       "  </thead>\n",
       "  <tbody>\n",
       "    <tr>\n",
       "      <th>Dosen#Umum</th>\n",
       "      <td>4</td>\n",
       "      <td>2</td>\n",
       "      <td>18</td>\n",
       "    </tr>\n",
       "    <tr>\n",
       "      <th>Sarpras</th>\n",
       "      <td>21</td>\n",
       "      <td>14</td>\n",
       "      <td>142</td>\n",
       "    </tr>\n",
       "    <tr>\n",
       "      <th>Dosen#Mengajar</th>\n",
       "      <td>12</td>\n",
       "      <td>4</td>\n",
       "      <td>10</td>\n",
       "    </tr>\n",
       "    <tr>\n",
       "      <th>Perkuliahan</th>\n",
       "      <td>17</td>\n",
       "      <td>19</td>\n",
       "      <td>49</td>\n",
       "    </tr>\n",
       "    <tr>\n",
       "      <th>NoAspect</th>\n",
       "      <td>2</td>\n",
       "      <td>8</td>\n",
       "      <td>1</td>\n",
       "    </tr>\n",
       "    <tr>\n",
       "      <th>Layanan</th>\n",
       "      <td>12</td>\n",
       "      <td>2</td>\n",
       "      <td>10</td>\n",
       "    </tr>\n",
       "    <tr>\n",
       "      <th>Nilai</th>\n",
       "      <td>0</td>\n",
       "      <td>0</td>\n",
       "      <td>9</td>\n",
       "    </tr>\n",
       "  </tbody>\n",
       "</table>\n",
       "</div>"
      ],
      "text/plain": [
       "                Positif  Netral  Negatif\n",
       "Dosen#Umum            4       2       18\n",
       "Sarpras              21      14      142\n",
       "Dosen#Mengajar       12       4       10\n",
       "Perkuliahan          17      19       49\n",
       "NoAspect              2       8        1\n",
       "Layanan              12       2       10\n",
       "Nilai                 0       0        9"
      ]
     },
     "execution_count": 9,
     "metadata": {},
     "output_type": "execute_result"
    }
   ],
   "source": [
    "data_4 = data_opini_4.summary_detail()\n",
    "pd.DataFrame.from_dict(data_4, orient='index').fillna(0).astype(int)"
   ]
  },
  {
   "cell_type": "markdown",
   "metadata": {},
   "source": [
    "# summary total data"
   ]
  },
  {
   "cell_type": "code",
   "execution_count": 10,
   "metadata": {},
   "outputs": [
    {
     "data": {
      "text/html": [
       "<div>\n",
       "<style scoped>\n",
       "    .dataframe tbody tr th:only-of-type {\n",
       "        vertical-align: middle;\n",
       "    }\n",
       "\n",
       "    .dataframe tbody tr th {\n",
       "        vertical-align: top;\n",
       "    }\n",
       "\n",
       "    .dataframe thead th {\n",
       "        text-align: right;\n",
       "    }\n",
       "</style>\n",
       "<table border=\"1\" class=\"dataframe\">\n",
       "  <thead>\n",
       "    <tr style=\"text-align: right;\">\n",
       "      <th></th>\n",
       "      <th>Positif</th>\n",
       "      <th>Negatif</th>\n",
       "      <th>Netral</th>\n",
       "    </tr>\n",
       "  </thead>\n",
       "  <tbody>\n",
       "    <tr>\n",
       "      <th>NoAspect</th>\n",
       "      <td>71</td>\n",
       "      <td>27</td>\n",
       "      <td>71</td>\n",
       "    </tr>\n",
       "    <tr>\n",
       "      <th>Sarpras</th>\n",
       "      <td>109</td>\n",
       "      <td>389</td>\n",
       "      <td>38</td>\n",
       "    </tr>\n",
       "    <tr>\n",
       "      <th>Perkuliahan</th>\n",
       "      <td>73</td>\n",
       "      <td>160</td>\n",
       "      <td>40</td>\n",
       "    </tr>\n",
       "    <tr>\n",
       "      <th>Dosen#Mengajar</th>\n",
       "      <td>135</td>\n",
       "      <td>94</td>\n",
       "      <td>20</td>\n",
       "    </tr>\n",
       "    <tr>\n",
       "      <th>Dosen#Umum</th>\n",
       "      <td>73</td>\n",
       "      <td>72</td>\n",
       "      <td>17</td>\n",
       "    </tr>\n",
       "    <tr>\n",
       "      <th>Layanan</th>\n",
       "      <td>50</td>\n",
       "      <td>40</td>\n",
       "      <td>8</td>\n",
       "    </tr>\n",
       "    <tr>\n",
       "      <th>Bingung</th>\n",
       "      <td>1</td>\n",
       "      <td>0</td>\n",
       "      <td>4</td>\n",
       "    </tr>\n",
       "    <tr>\n",
       "      <th>Nilai</th>\n",
       "      <td>0</td>\n",
       "      <td>15</td>\n",
       "      <td>0</td>\n",
       "    </tr>\n",
       "    <tr>\n",
       "      <th>Pengajar</th>\n",
       "      <td>0</td>\n",
       "      <td>0</td>\n",
       "      <td>1</td>\n",
       "    </tr>\n",
       "  </tbody>\n",
       "</table>\n",
       "</div>"
      ],
      "text/plain": [
       "                Positif  Negatif  Netral\n",
       "NoAspect             71       27      71\n",
       "Sarpras             109      389      38\n",
       "Perkuliahan          73      160      40\n",
       "Dosen#Mengajar      135       94      20\n",
       "Dosen#Umum           73       72      17\n",
       "Layanan              50       40       8\n",
       "Bingung               1        0       4\n",
       "Nilai                 0       15       0\n",
       "Pengajar              0        0       1"
      ]
     },
     "execution_count": 10,
     "metadata": {},
     "output_type": "execute_result"
    }
   ],
   "source": [
    "a = [data_1, data_2, data_3, data_4]\n",
    "data_total = {}\n",
    "for m in a:\n",
    "    for k, v in m.items():\n",
    "        if k not in data_total:\n",
    "            data_total[k] = {}\n",
    "        for x, y in v.items():\n",
    "            if x not in data_total[k]:\n",
    "                data_total[k][x] = y\n",
    "            else:\n",
    "                data_total[k][x] += y\n",
    "    \n",
    "pd.DataFrame.from_dict(data_total, orient='index').fillna(0).astype(int)"
   ]
  },
  {
   "cell_type": "code",
   "execution_count": 11,
   "metadata": {},
   "outputs": [],
   "source": [
    "# liat berapa kalimat yang ada multi aspek\n",
    "satu = data_opini_1.get_pair()\n",
    "dua = data_opini_2.get_pair()\n",
    "tiga = data_opini_3.get_pair()\n",
    "empat = data_opini_4.get_pair()"
   ]
  },
  {
   "cell_type": "code",
   "execution_count": 12,
   "metadata": {},
   "outputs": [
    {
     "data": {
      "text/plain": [
       "{1: 1004, 2: 246, 3: 4}"
      ]
     },
     "execution_count": 12,
     "metadata": {},
     "output_type": "execute_result"
    }
   ],
   "source": [
    "D = [satu, dua, tiga, empat]\n",
    "multi_aspek = {}\n",
    "for data in D:\n",
    "    for text, opini in data:\n",
    "        if len(opini) not in multi_aspek:\n",
    "            multi_aspek[len(opini)] = 0\n",
    "        multi_aspek[len(opini)] += 1\n",
    "multi_aspek"
   ]
  },
  {
   "cell_type": "code",
   "execution_count": 13,
   "metadata": {},
   "outputs": [
    {
     "data": {
      "text/plain": [
       "['baik, namun dari segi penyampaian masih seperti anak sekolahan',\n",
       " 'akan tetapi kelas sering kotor.',\n",
       " 'lumayan, tetapi komputer masih kurang',\n",
       " 'bagus, tapi ga semuanya.',\n",
       " 'bagus, hanya saja terkadang dosen kurang memahami apa yang ingin disampaikan',\n",
       " 'baik, tapi sekarang sepertinya masih belum ramah bagi mahasiswa, karena bgi mahasiswa yang kekurangan fasilitas dan sering gak dapet',\n",
       " 'saya hanya ingin dosen bisa membuat materi yg dijelaskan menjadi sebuah memori jangka panjang untuk para mahasiswa',\n",
       " 'beberapa hanya membaca slide dan memberikan tugas, tidak dapat menjelaskan pertanyaan dari mahasiswa dan meminta mahasiswa yang lebih mengerti untuk membantu menjelaskan.',\n",
       " 'akan tetapi ada beberapa teman saya yang memang kurang mengerti perihal administrasi di prodi',\n",
       " 'mungkin hanya yang kurang di fasilitas di praktikum.',\n",
       " 'terkadang hanya terganggu konsentrasinya karna suasana di luar ruangan yang ramai jika pergantian jam di ruangan sebelah.',\n",
       " 'baik, tetapi ada beberapa dosen yang sangat sulit dihubungi',\n",
       " 'saya hanya ingin mahasiswa bisa lebih mengutamakan pemahaman daripada nilai, dan menurut saya itu harus di mulai dari ketegasan tenaga pengajarnya.']"
      ]
     },
     "execution_count": 13,
     "metadata": {},
     "output_type": "execute_result"
    }
   ],
   "source": [
    "# check ada berapa dan apa aja kalimat yang kata konjungsi di (awal kalimat) kata kedua\n",
    "konjungsi = ['tetapi', 'tapi', 'namun', 'hanya', 'cuma', 'cuman', 'walaupun', 'walau', 'meskipun']\n",
    "result = []\n",
    "for data in D:\n",
    "    for text, opini in data:\n",
    "        list_word = nltk.tokenize.word_tokenize(text)\n",
    "        cnt = 0\n",
    "        ok = 0\n",
    "        for word in list_word:\n",
    "            if word.isalpha():\n",
    "                cnt += 1;\n",
    "            if cnt == 2:\n",
    "                if word in konjungsi:\n",
    "                    ok = 1\n",
    "                break\n",
    "        if ok:\n",
    "            result.append(text)\n",
    "result  "
   ]
  },
  {
   "cell_type": "code",
   "execution_count": null,
   "metadata": {},
   "outputs": [],
   "source": []
  },
  {
   "cell_type": "code",
   "execution_count": 14,
   "metadata": {},
   "outputs": [
    {
     "data": {
      "text/plain": [
       "[\"beberapa dosen belum dapat menguasai kelas dengan baik, tapi sudah cukup dalam hal ilmu yang di ajarkan. hanya saja untuk kuliah yang terkesan padat/lama , mahasiswa butuh sedikit 'joke' untuk mencairkan suasana agar tidak bosan\",\n",
       " 'sebagian besar sudah sangat baik, namun ada beberapa pengajar yang tidak peduli terhadap mahasiswanya, dan hanya berfokus untuk menyelesaikan kewajibannya saja tanpa peduli mahasiswa mengerti atau tidak',\n",
       " 'semoga untuk kedepannya dosen-dosen itera semakin baik lagi, tidak hanya sekedar memberikan tugas tapi harus menunaikan tanggung jawabnya sebagai pengajar.',\n",
       " 'sbnernya kondisi perkuliahan udah bagus cuma kdng ad aja suara orang jerit2 atau suara yg besar jd memecah konsentrasi, trus kdng ac mati, wifi ngadat zebel']"
      ]
     },
     "execution_count": 14,
     "metadata": {},
     "output_type": "execute_result"
    }
   ],
   "source": [
    "# cek kalimat lebi dari 2 aspek\n",
    "rr = []\n",
    "for data in D:\n",
    "    for text, opini in data:\n",
    "        if len(opini) > 2:\n",
    "            rr.append(text)\n",
    "rr"
   ]
  },
  {
   "cell_type": "code",
   "execution_count": 15,
   "metadata": {},
   "outputs": [],
   "source": [
    "%run './experiment1/split_kalimat'"
   ]
  },
  {
   "cell_type": "code",
   "execution_count": 16,
   "metadata": {},
   "outputs": [
    {
     "name": "stdout",
     "output_type": "stream",
     "text": [
      "['beberapa dosen belum dapat menguasai kelas dengan baik ,', 'tapi sudah cukup dalam hal ilmu yang di ajarkan .', \"hanya saja untuk kuliah yang terkesan padat/lama , mahasiswa butuh sedikit 'joke ' untuk mencairkan suasana agar tidak bosan\"]\n",
      "['pengajar sebagian besar sudah sangat baik ,', 'namun ada beberapa pengajar yang tidak peduli terhadap mahasiswanya , dan', 'hanya berfokus untuk menyelesaikan kewajibannya saja tanpa peduli mahasiswa mengerti atau tidak']\n",
      "['semoga untuk kedepannya dosen-dosen itera semakin baik lagi , tidak', 'hanya sekedar memberikan tugas', 'tapi harus menunaikan tanggung jawabnya sebagai pengajar .']\n",
      "['sbnernya kondisi perkuliahan udah bagus', 'cuma kdng ad aja suara orang jerit2 atau suara yg besar jd memecah konsentrasi , trus kdng ac mati , wifi ngadat zebel']\n"
     ]
    }
   ],
   "source": [
    "for sen in rr:\n",
    "    x = split_kalimat2(sen)\n",
    "    print(add_noun_phrase(x))"
   ]
  },
  {
   "cell_type": "code",
   "execution_count": null,
   "metadata": {},
   "outputs": [],
   "source": []
  },
  {
   "cell_type": "code",
   "execution_count": 17,
   "metadata": {},
   "outputs": [
    {
     "data": {
      "text/plain": [
       "\"be   berapa dosen belum dapat menguasai kelas dengan baik, tapi sudah cukup dalam hal ilmu yang di ajarkan. hanya saja untuk kuliah yang terkesan padat/lama , mahasiswa butuh sedikit 'joke' untuk mencairkan suasana agar tidak bosan\""
      ]
     },
     "execution_count": 17,
     "metadata": {},
     "output_type": "execute_result"
    }
   ],
   "source": [
    "rr[0][:2] + \"   \" + rr[0][2:]"
   ]
  },
  {
   "cell_type": "code",
   "execution_count": null,
   "metadata": {},
   "outputs": [],
   "source": []
  }
 ],
 "metadata": {
  "kernelspec": {
   "display_name": "Python 3",
   "language": "python",
   "name": "python3"
  },
  "language_info": {
   "codemirror_mode": {
    "name": "ipython",
    "version": 3
   },
   "file_extension": ".py",
   "mimetype": "text/x-python",
   "name": "python",
   "nbconvert_exporter": "python",
   "pygments_lexer": "ipython3",
   "version": "3.8.5"
  }
 },
 "nbformat": 4,
 "nbformat_minor": 4
}
