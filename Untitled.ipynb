{
 "cells": [
  {
   "cell_type": "code",
   "execution_count": 1,
   "metadata": {},
   "outputs": [],
   "source": [
    "%run 'processing'\n",
    "sent = \"Beberapa pengajar sudah mengajar dengan baik, namun ada juga yang belum baik\""
   ]
  },
  {
   "cell_type": "code",
   "execution_count": 2,
   "metadata": {},
   "outputs": [
    {
     "name": "stdout",
     "output_type": "stream",
     "text": [
      "[['Beberapa', 'CDI'], ['pengajar', 'NN'], ['sudah', 'MD'], ['mengajar', 'VBT'], ['dengan', 'IN'], ['baik', 'JJ'], [',', ',']]\n",
      "[['ada', 'VBI'], ['juga', 'RB'], ['yang', 'SC'], ['belum', 'NEG'], ['baik', 'JJ']]\n",
      "[['ada', 'VBI'], ['juga', 'RB'], ['yang', 'SC'], ['belum', 'NEG'], ['baik', 'JJ']]\n",
      "None\n"
     ]
    },
    {
     "data": {
      "text/plain": [
       "['Beberapa pengajar sudah mengajar dengan baik ,',\n",
       " 'pengajar ada juga yang belum baik']"
      ]
     },
     "execution_count": 2,
     "metadata": {},
     "output_type": "execute_result"
    }
   ],
   "source": [
    "#find_noun_phrase(sent)\n",
    "split = split_kalimat(sent)\n",
    "add_noun_phrase(split)"
   ]
  },
  {
   "cell_type": "code",
   "execution_count": null,
   "metadata": {},
   "outputs": [],
   "source": []
  }
 ],
 "metadata": {
  "kernelspec": {
   "display_name": "Python 3",
   "language": "python",
   "name": "python3"
  },
  "language_info": {
   "codemirror_mode": {
    "name": "ipython",
    "version": 3
   },
   "file_extension": ".py",
   "mimetype": "text/x-python",
   "name": "python",
   "nbconvert_exporter": "python",
   "pygments_lexer": "ipython3",
   "version": "3.7.7"
  }
 },
 "nbformat": 4,
 "nbformat_minor": 4
}
